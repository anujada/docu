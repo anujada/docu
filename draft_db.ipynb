{
 "cells": [
  {
   "cell_type": "code",
   "execution_count": 1,
   "id": "7e6801cb-5667-487a-88ff-23be7cbedf9b",
   "metadata": {},
   "outputs": [],
   "source": [
    "import sqlite3"
   ]
  },
  {
   "cell_type": "code",
   "execution_count": 2,
   "id": "635b2ecd-0051-49a2-8b1c-d02f31d90b5f",
   "metadata": {},
   "outputs": [],
   "source": [
    "path = \"database/data.db\""
   ]
  },
  {
   "cell_type": "code",
   "execution_count": 3,
   "id": "1b414a84-7814-48b1-ab3c-3457a4edb942",
   "metadata": {},
   "outputs": [],
   "source": [
    "db  = sqlite3.connect(path)"
   ]
  },
  {
   "cell_type": "code",
   "execution_count": 4,
   "id": "ef109739-459f-42b1-813e-d19db044ee04",
   "metadata": {},
   "outputs": [
    {
     "data": {
      "text/plain": [
       "<sqlite3.Cursor at 0x16c3713db90>"
      ]
     },
     "execution_count": 4,
     "metadata": {},
     "output_type": "execute_result"
    }
   ],
   "source": [
    "db.execute('''CREATE TABLE PEOPLE\n",
    "         (ID INT PRIMARY KEY     NOT NULL,\n",
    "         NAME           TEXT    NOT NULL,\n",
    "         PASSWORD       TEXT    NOT NULL,\n",
    "         EMAIL          TEXT     NOT NULL,\n",
    "         LOCATION        CHAR(50));''')"
   ]
  },
  {
   "cell_type": "code",
   "execution_count": 20,
   "id": "4d331887-1088-4d38-80b7-7ee821cd68bd",
   "metadata": {},
   "outputs": [],
   "source": [
    "res = db.execute(\"INSERT INTO PEOPLE (ID, NAME,PASSWORD, EMAIL, LOCATION) \\\n",
    "      VALUES (3, 'Harry Bronx', 'admin',  'hb@gb.com', 'South Africa' )\")\n",
    "for row in res:\n",
    "    print(row)"
   ]
  },
  {
   "cell_type": "code",
   "execution_count": 4,
   "id": "0decd127-0f05-47e0-aa84-9eafccc00ccd",
   "metadata": {},
   "outputs": [],
   "source": [
    "res = db.execute(\"SELECT * from PEOPLE\")"
   ]
  },
  {
   "cell_type": "code",
   "execution_count": 5,
   "id": "156fd62f-601b-4dff-9bfe-2005ed440ba5",
   "metadata": {},
   "outputs": [
    {
     "name": "stdout",
     "output_type": "stream",
     "text": [
      "(1, 'Greg Abramov', 'admin', 'gb@gb.com', 'Lebanon')\n",
      "(2, 'Latisha Max', 'admin', 'lm@gb.com', 'NA')\n",
      "(3, 'Harry Bronx', 'admin', 'hb@gb.com', 'South Africa')\n"
     ]
    }
   ],
   "source": [
    "for row in res:\n",
    "    print(row)"
   ]
  },
  {
   "cell_type": "code",
   "execution_count": 23,
   "id": "1c45c216-6a21-40e2-8998-5008537fb8a5",
   "metadata": {},
   "outputs": [],
   "source": [
    "db.commit()"
   ]
  },
  {
   "cell_type": "code",
   "execution_count": 24,
   "id": "50cbf076-7c73-4f96-9245-57b67f90e2b3",
   "metadata": {},
   "outputs": [],
   "source": [
    "db.close()"
   ]
  },
  {
   "cell_type": "code",
   "execution_count": null,
   "id": "4becf849-1fdb-4521-9a6a-b0b58603482a",
   "metadata": {},
   "outputs": [],
   "source": []
  }
 ],
 "metadata": {
  "kernelspec": {
   "display_name": "Python 3",
   "language": "python",
   "name": "python3"
  },
  "language_info": {
   "codemirror_mode": {
    "name": "ipython",
    "version": 3
   },
   "file_extension": ".py",
   "mimetype": "text/x-python",
   "name": "python",
   "nbconvert_exporter": "python",
   "pygments_lexer": "ipython3",
   "version": "3.8.8"
  }
 },
 "nbformat": 4,
 "nbformat_minor": 5
}
